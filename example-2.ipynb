{
 "cells": [
  {
   "cell_type": "code",
   "execution_count": 363,
   "metadata": {},
   "outputs": [],
   "source": [
    "import pandas as pd\n",
    "import seaborn as sns\n",
    "import matplotlib.pyplot as plt\n",
    "from sklearn.model_selection import train_test_split\n",
    "from sklearn.preprocessing import LabelEncoder, MinMaxScaler, OneHotEncoder\n",
    "import joblib\n",
    "from sklearn.pipeline import Pipeline\n",
    "from sklearn.metrics import accuracy_score\n",
    "from sklearn.feature_extraction.text import CountVectorizer, TfidfVectorizer, HashingVectorizer"
   ]
  },
  {
   "cell_type": "code",
   "execution_count": 364,
   "metadata": {},
   "outputs": [],
   "source": [
    "from sklearn.linear_model import LogisticRegression\n",
    "from sklearn.svm import SVC\n",
    "from sklearn.naive_bayes import GaussianNB, MultinomialNB, BernoulliNB\n",
    "from sklearn.tree import DecisionTreeClassifier\n",
    "from sklearn.neighbors import KNeighborsClassifier\n",
    "from sklearn.ensemble import RandomForestClassifier,ExtraTreesClassifier,AdaBoostClassifier,BaggingClassifier,GradientBoostingClassifier, VotingClassifier"
   ]
  },
  {
   "cell_type": "code",
   "execution_count": 365,
   "metadata": {},
   "outputs": [
    {
     "name": "stdout",
     "output_type": "stream",
     "text": [
      "<class 'pandas.core.frame.DataFrame'>\n",
      "RangeIndex: 2225 entries, 0 to 2224\n",
      "Data columns (total 2 columns):\n",
      " #   Column    Non-Null Count  Dtype \n",
      "---  ------    --------------  ----- \n",
      " 0   category  2225 non-null   object\n",
      " 1   text      2225 non-null   object\n",
      "dtypes: object(2)\n",
      "memory usage: 34.9+ KB\n"
     ]
    }
   ],
   "source": [
    "df = pd.read_csv('input/bbc-text.csv')\n",
    "df.info()"
   ]
  },
  {
   "cell_type": "code",
   "execution_count": 366,
   "metadata": {},
   "outputs": [
    {
     "data": {
      "text/html": [
       "<div>\n",
       "<style scoped>\n",
       "    .dataframe tbody tr th:only-of-type {\n",
       "        vertical-align: middle;\n",
       "    }\n",
       "\n",
       "    .dataframe tbody tr th {\n",
       "        vertical-align: top;\n",
       "    }\n",
       "\n",
       "    .dataframe thead th {\n",
       "        text-align: right;\n",
       "    }\n",
       "</style>\n",
       "<table border=\"1\" class=\"dataframe\">\n",
       "  <thead>\n",
       "    <tr style=\"text-align: right;\">\n",
       "      <th></th>\n",
       "      <th>category</th>\n",
       "      <th>text</th>\n",
       "    </tr>\n",
       "  </thead>\n",
       "  <tbody>\n",
       "    <tr>\n",
       "      <th>0</th>\n",
       "      <td>tech</td>\n",
       "      <td>tv future in the hands of viewers with home th...</td>\n",
       "    </tr>\n",
       "    <tr>\n",
       "      <th>1</th>\n",
       "      <td>business</td>\n",
       "      <td>worldcom boss  left books alone  former worldc...</td>\n",
       "    </tr>\n",
       "    <tr>\n",
       "      <th>2</th>\n",
       "      <td>sport</td>\n",
       "      <td>tigers wary of farrell  gamble  leicester say ...</td>\n",
       "    </tr>\n",
       "    <tr>\n",
       "      <th>3</th>\n",
       "      <td>sport</td>\n",
       "      <td>yeading face newcastle in fa cup premiership s...</td>\n",
       "    </tr>\n",
       "    <tr>\n",
       "      <th>4</th>\n",
       "      <td>entertainment</td>\n",
       "      <td>ocean s twelve raids box office ocean s twelve...</td>\n",
       "    </tr>\n",
       "  </tbody>\n",
       "</table>\n",
       "</div>"
      ],
      "text/plain": [
       "        category                                               text\n",
       "0           tech  tv future in the hands of viewers with home th...\n",
       "1       business  worldcom boss  left books alone  former worldc...\n",
       "2          sport  tigers wary of farrell  gamble  leicester say ...\n",
       "3          sport  yeading face newcastle in fa cup premiership s...\n",
       "4  entertainment  ocean s twelve raids box office ocean s twelve..."
      ]
     },
     "execution_count": 366,
     "metadata": {},
     "output_type": "execute_result"
    }
   ],
   "source": [
    "df.head()"
   ]
  },
  {
   "cell_type": "code",
   "execution_count": 367,
   "metadata": {},
   "outputs": [
    {
     "name": "stdout",
     "output_type": "stream",
     "text": [
      "shape of data frame (2225, 2)\n"
     ]
    },
    {
     "data": {
      "text/plain": [
       "99"
      ]
     },
     "execution_count": 367,
     "metadata": {},
     "output_type": "execute_result"
    }
   ],
   "source": [
    "print(\"shape of data frame\", df.shape)\n",
    "df.duplicated().sum()"
   ]
  },
  {
   "cell_type": "code",
   "execution_count": 368,
   "metadata": {},
   "outputs": [
    {
     "name": "stdout",
     "output_type": "stream",
     "text": [
      "shape of data frame (2126, 2)\n"
     ]
    }
   ],
   "source": [
    "df.drop_duplicates(inplace=True)\n",
    "print(\"shape of data frame\", df.shape)"
   ]
  },
  {
   "cell_type": "code",
   "execution_count": 369,
   "metadata": {},
   "outputs": [
    {
     "data": {
      "text/plain": [
       "array(['tech', 'business', 'sport', 'entertainment', 'politics'],\n",
       "      dtype=object)"
      ]
     },
     "execution_count": 369,
     "metadata": {},
     "output_type": "execute_result"
    }
   ],
   "source": [
    "df['category'].unique()"
   ]
  },
  {
   "cell_type": "code",
   "execution_count": 370,
   "metadata": {},
   "outputs": [
    {
     "data": {
      "text/plain": [
       "category\n",
       "sport            504\n",
       "business         503\n",
       "politics         403\n",
       "entertainment    369\n",
       "tech             347\n",
       "Name: count, dtype: int64"
      ]
     },
     "execution_count": 370,
     "metadata": {},
     "output_type": "execute_result"
    }
   ],
   "source": [
    "df['category'].value_counts()"
   ]
  },
  {
   "cell_type": "code",
   "execution_count": 371,
   "metadata": {},
   "outputs": [
    {
     "data": {
      "image/png": "[encoded data removed]",
      "text/plain": [
       "<Figure size 640x480 with 1 Axes>"
      ]
     },
     "metadata": {},
     "output_type": "display_data"
    }
   ],
   "source": [
    "sns.set()\n",
    "sns.countplot(df,x='category')\n",
    "plt.show()"
   ]
  },
  {
   "cell_type": "code",
   "execution_count": 372,
   "metadata": {},
   "outputs": [],
   "source": [
    "X_train, X_test, Y_train,Y_test = train_test_split(df['text'], df['category'],test_size=0.3,random_state=32)"
   ]
  },
  {
   "cell_type": "code",
   "execution_count": 373,
   "metadata": {},
   "outputs": [
    {
     "name": "stdout",
     "output_type": "stream",
     "text": [
      "train data shape (1488,)\n",
      "test data shape (638,)\n"
     ]
    }
   ],
   "source": [
    "print(\"train data shape\",X_train.shape)\n",
    "print(\"test data shape\",X_test.shape)"
   ]
  },
  {
   "cell_type": "code",
   "execution_count": 374,
   "metadata": {},
   "outputs": [],
   "source": [
    "count_vectorizer = CountVectorizer()\n",
    "count_vectorizer.fit(df['text'])\n",
    "x_count_train = count_vectorizer.transform(X_train)\n",
    "x_count_test = count_vectorizer.transform(X_test)"
   ]
  },
  {
   "cell_type": "code",
   "execution_count": 375,
   "metadata": {},
   "outputs": [],
   "source": [
    "tfidf_word_vectorizer = TfidfVectorizer(analyzer='word',max_features=5000)\n",
    "tfidf_word_vectorizer.fit(df['text'])\n",
    "x_tfidf_word_train = tfidf_word_vectorizer.transform(X_train)\n",
    "x_tfidf_word_test = tfidf_word_vectorizer.transform(X_test)"
   ]
  },
  {
   "cell_type": "code",
   "execution_count": 376,
   "metadata": {},
   "outputs": [],
   "source": [
    "tfidf_ngram_vectorizer = TfidfVectorizer(analyzer='word',ngram_range=(2,3),max_features=5000)\n",
    "tfidf_ngram_vectorizer.fit(df['text'])\n",
    "x_tfidf_ngram_train = tfidf_ngram_vectorizer.transform(X_train)\n",
    "x_tfidf_ngram_test = tfidf_ngram_vectorizer.transform(X_test)"
   ]
  },
  {
   "cell_type": "code",
   "execution_count": 377,
   "metadata": {},
   "outputs": [],
   "source": [
    "tfidf_char_vectorizer = TfidfVectorizer(analyzer='char',ngram_range=(2,3),max_features=5000)\n",
    "tfidf_char_vectorizer.fit(df['text'])\n",
    "x_tfidf_char_train = tfidf_char_vectorizer.transform(X_train)\n",
    "x_tfidf_char_test = tfidf_char_vectorizer.transform(X_test)"
   ]
  },
  {
   "cell_type": "code",
   "execution_count": 378,
   "metadata": {},
   "outputs": [],
   "source": [
    "hashing_vectorizer = HashingVectorizer(n_features=5000)\n",
    "hashing_vectorizer.fit(df['text'])\n",
    "x_hashing_train = hashing_vectorizer.transform(X_train)\n",
    "x_hashing_test = hashing_vectorizer.transform(X_test)"
   ]
  },
  {
   "cell_type": "code",
   "execution_count": 396,
   "metadata": {},
   "outputs": [
    {
     "data": {
      "text/plain": [
       "{0: 'business', 1: 'entertainment', 2: 'politics', 3: 'sport', 4: 'tech'}"
      ]
     },
     "metadata": {},
     "output_type": "display_data"
    }
   ],
   "source": [
    "encoder = LabelEncoder()\n",
    "encoder.fit(df['category'])\n",
    "Y_train_encoded = encoder.transform(Y_train)\n",
    "Y_test_encoded = encoder.transform(Y_test)\n",
    "encoder_mapping = dict(zip(encoder.transform(encoder.classes_),encoder.classes_))\n",
    "display(encoder_mapping)\n"
   ]
  },
  {
   "cell_type": "code",
   "execution_count": 380,
   "metadata": {},
   "outputs": [],
   "source": [
    "word_trained_classifier = {}"
   ]
  },
  {
   "cell_type": "code",
   "execution_count": 381,
   "metadata": {},
   "outputs": [],
   "source": [
    "def model_score(name, model, X_train, X_test, Y_train, Y_test, vectorization_method):\n",
    "    model.fit(X_train,Y_train)\n",
    "    Y_pred = model.predict(X_test)\n",
    "    word_trained_classifier[name] = fileName = f'{name}-{vectorization_method}-example-2.model'\n",
    "    joblib.dump(model,filename=fileName)\n",
    "    return accuracy_score(y_pred=Y_pred, y_true=Y_test)"
   ]
  },
  {
   "cell_type": "code",
   "execution_count": 382,
   "metadata": {},
   "outputs": [],
   "source": [
    "logistic_regression = LogisticRegression(multi_class='auto', solver='lbfgs',max_iter=4000)\n",
    "svm = SVC(kernel='sigmoid',gamma=0.1, probability=True)\n",
    "multinomial_nb = Pipeline([('Normalizing',MinMaxScaler()),('MultinomialNB',MultinomialNB())])\n",
    "bernoulli_nb = BernoulliNB()\n",
    "gaussian_nb = GaussianNB()\n",
    "decision_tree = DecisionTreeClassifier(max_depth = 5)\n",
    "knn = KNeighborsClassifier()\n",
    "random_forest = RandomForestClassifier(n_estimators=50,random_state=2)\n",
    "extra_trees = ExtraTreesClassifier(n_estimators=50,random_state=2)\n",
    "adaboost = AdaBoostClassifier(n_estimators=50,random_state=2)\n",
    "bagging = BaggingClassifier(n_estimators=50,random_state=2)\n",
    "gradient_boost = GradientBoostingClassifier(n_estimators=50,random_state=2)"
   ]
  },
  {
   "cell_type": "code",
   "execution_count": 383,
   "metadata": {},
   "outputs": [
    {
     "data": {
      "text/plain": [
       "{'logistic_regression': LogisticRegression(max_iter=4000),\n",
       " 'svm': SVC(gamma=0.1, kernel='sigmoid', probability=True),\n",
       " 'multinomial_nb': Pipeline(steps=[('Normalizing', MinMaxScaler()),\n",
       "                 ('MultinomialNB', MultinomialNB())]),\n",
       " 'bernoulli_nb': BernoulliNB(),\n",
       " 'gaussian_nb': GaussianNB(),\n",
       " 'decision_tree': DecisionTreeClassifier(max_depth=5),\n",
       " 'knn': KNeighborsClassifier(),\n",
       " 'random_forest': RandomForestClassifier(n_estimators=50, random_state=2),\n",
       " 'extra_trees': ExtraTreesClassifier(n_estimators=50, random_state=2)}"
      ]
     },
     "execution_count": 383,
     "metadata": {},
     "output_type": "execute_result"
    }
   ],
   "source": [
    "classifiers = {\n",
    "    'logistic_regression': logistic_regression,\n",
    "    'svm': svm,\n",
    "    'multinomial_nb': multinomial_nb,\n",
    "    'bernoulli_nb': bernoulli_nb,\n",
    "    'gaussian_nb': gaussian_nb,\n",
    "    'decision_tree': decision_tree,\n",
    "    'knn': knn,\n",
    "    'random_forest': random_forest,\n",
    "    'extra_trees': extra_trees,\n",
    "    # 'adaboost': adaboost,\n",
    "    # 'bagging': bagging,\n",
    "    # 'gradient_boost': gradient_boost\n",
    "}\n",
    "\n",
    "classifiers"
   ]
  },
  {
   "cell_type": "code",
   "execution_count": 384,
   "metadata": {},
   "outputs": [
    {
     "name": "stdout",
     "output_type": "stream",
     "text": [
      "x count test <class 'scipy.sparse._csr.csr_matrix'>\n",
      "x word test <class 'scipy.sparse._csr.csr_matrix'>\n",
      "x ngram test <class 'scipy.sparse._csr.csr_matrix'>\n",
      "x char test <class 'scipy.sparse._csr.csr_matrix'>\n",
      "x hashing test <class 'scipy.sparse._csr.csr_matrix'>\n",
      "y_train <class 'numpy.ndarray'>\n"
     ]
    }
   ],
   "source": [
    "print(\"x count test\",type(x_count_test))\n",
    "print(\"x word test\", type(x_tfidf_word_test))\n",
    "print(\"x ngram test\", type(x_tfidf_ngram_test))\n",
    "print(\"x char test\", type(x_tfidf_char_test))\n",
    "print(\"x hashing test\", type(x_hashing_test))\n",
    "print(\"y_train\", type(Y_train_encoded))"
   ]
  },
  {
   "cell_type": "code",
   "execution_count": 385,
   "metadata": {},
   "outputs": [],
   "source": [
    "x_count_train = x_count_train.toarray()\n",
    "x_count_test = x_count_test.toarray()\n",
    "x_tfidf_word_test = x_tfidf_word_test.toarray()\n",
    "x_tfidf_word_train = x_tfidf_word_train.toarray()\n",
    "x_tfidf_ngram_test = x_tfidf_ngram_test.toarray()\n",
    "x_tfidf_ngram_train = x_tfidf_ngram_train.toarray()\n",
    "x_tfidf_char_test = x_tfidf_char_test.toarray()\n",
    "x_tfidf_char_train = x_tfidf_char_train.toarray()\n",
    "x_hashing_test = x_hashing_test.toarray()\n",
    "x_hashing_train = x_hashing_train.toarray()"
   ]
  },
  {
   "cell_type": "code",
   "execution_count": 386,
   "metadata": {},
   "outputs": [
    {
     "name": "stdout",
     "output_type": "stream",
     "text": [
      "x count test <class 'numpy.ndarray'>\n",
      "x word test <class 'numpy.ndarray'>\n",
      "x ngram test <class 'numpy.ndarray'>\n",
      "x char test <class 'numpy.ndarray'>\n",
      "x hashing test <class 'numpy.ndarray'>\n",
      "y_train <class 'numpy.ndarray'>\n"
     ]
    }
   ],
   "source": [
    "print(\"x count test\",type(x_count_test))\n",
    "print(\"x word test\", type(x_tfidf_word_test))\n",
    "print(\"x ngram test\", type(x_tfidf_ngram_test))\n",
    "print(\"x char test\", type(x_tfidf_char_test))\n",
    "print(\"x hashing test\", type(x_hashing_test))\n",
    "print(\"y_train\", type(Y_train_encoded))"
   ]
  },
  {
   "cell_type": "code",
   "execution_count": 387,
   "metadata": {},
   "outputs": [
    {
     "name": "stdout",
     "output_type": "stream",
     "text": [
      "logistic_regression is trained with word accuracy: 0.9780564263322884\n",
      "\n",
      "\n",
      "svm is trained with word accuracy: 0.9278996865203761\n",
      "\n",
      "\n",
      "multinomial_nb is trained with word accuracy: 0.9639498432601881\n",
      "\n",
      "\n",
      "bernoulli_nb is trained with word accuracy: 0.9592476489028213\n",
      "\n",
      "\n",
      "gaussian_nb is trained with word accuracy: 0.9231974921630094\n",
      "\n",
      "\n",
      "decision_tree is trained with word accuracy: 0.6865203761755486\n",
      "\n",
      "\n",
      "knn is trained with word accuracy: 0.9373040752351097\n",
      "\n",
      "\n",
      "random_forest is trained with word accuracy: 0.9467084639498433\n",
      "\n",
      "\n",
      "extra_trees is trained with word accuracy: 0.9545454545454546\n",
      "\n",
      "\n"
     ]
    }
   ],
   "source": [
    "count_accuracy = {}\n",
    "word_accuracy = {}\n",
    "ngram_accuracy = {}\n",
    "char_accuracy = {}\n",
    "hashing_accuracy = {}\n",
    "\n",
    "for name, classifier in classifiers.items():\n",
    "    # count_acc = model_score(name, classifier, x_count_train, x_count_test, Y_train_encoded,Y_test_encoded, 'count')\n",
    "    word_acc = model_score(name, classifier, x_tfidf_word_train, x_tfidf_word_test, Y_train_encoded,Y_test_encoded, 'word')\n",
    "    # ngram_acc = model_score(name, classifier, x_tfidf_ngram_train, x_tfidf_ngram_test, Y_train_encoded,Y_test_encoded, 'ngram')\n",
    "    # char_acc = model_score(name, classifier, x_tfidf_char_train, x_tfidf_char_test, Y_train_encoded,Y_test_encoded, 'char')\n",
    "    # hashing_acc = model_score(name, classifier, x_hashing_train, x_hashing_test, Y_train_encoded,Y_test_encoded, 'hashing')\n",
    "\n",
    "    print(f'{name} is trained with word accuracy: {word_acc}\\n\\n')\n",
    "    # count_accuracy[name] = count_acc\n",
    "    word_accuracy[name] = word_acc\n",
    "    # ngram_accuracy[name] = ngram_acc\n",
    "    # char_accuracy[name] = char_acc\n",
    "    # hashing_accuracy[name] = hashing_acc\n"
   ]
  },
  {
   "cell_type": "code",
   "execution_count": 388,
   "metadata": {},
   "outputs": [],
   "source": [
    "# count_accuracy"
   ]
  },
  {
   "cell_type": "code",
   "execution_count": 389,
   "metadata": {},
   "outputs": [
    {
     "data": {
      "text/plain": [
       "{'logistic_regression': 0.9780564263322884,\n",
       " 'svm': 0.9278996865203761,\n",
       " 'multinomial_nb': 0.9639498432601881,\n",
       " 'bernoulli_nb': 0.9592476489028213,\n",
       " 'gaussian_nb': 0.9231974921630094,\n",
       " 'decision_tree': 0.6865203761755486,\n",
       " 'knn': 0.9373040752351097,\n",
       " 'random_forest': 0.9467084639498433,\n",
       " 'extra_trees': 0.9545454545454546}"
      ]
     },
     "execution_count": 389,
     "metadata": {},
     "output_type": "execute_result"
    }
   ],
   "source": [
    "word_accuracy"
   ]
  },
  {
   "cell_type": "code",
   "execution_count": 390,
   "metadata": {},
   "outputs": [],
   "source": [
    "# ngram_accuracy"
   ]
  },
  {
   "cell_type": "code",
   "execution_count": 391,
   "metadata": {},
   "outputs": [],
   "source": [
    "# char_accuracy"
   ]
  },
  {
   "cell_type": "code",
   "execution_count": 392,
   "metadata": {},
   "outputs": [],
   "source": [
    "# hashing_accuracy"
   ]
  },
  {
   "cell_type": "code",
   "execution_count": 393,
   "metadata": {},
   "outputs": [
    {
     "data": {
      "text/plain": [
       "{'logistic_regression': 'logistic_regression-word-example-2.model',\n",
       " 'svm': 'svm-word-example-2.model',\n",
       " 'multinomial_nb': 'multinomial_nb-word-example-2.model',\n",
       " 'bernoulli_nb': 'bernoulli_nb-word-example-2.model',\n",
       " 'gaussian_nb': 'gaussian_nb-word-example-2.model',\n",
       " 'decision_tree': 'decision_tree-word-example-2.model',\n",
       " 'knn': 'knn-word-example-2.model',\n",
       " 'random_forest': 'random_forest-word-example-2.model',\n",
       " 'extra_trees': 'extra_trees-word-example-2.model'}"
      ]
     },
     "execution_count": 393,
     "metadata": {},
     "output_type": "execute_result"
    }
   ],
   "source": [
    "word_trained_classifier"
   ]
  },
  {
   "cell_type": "code",
   "execution_count": 399,
   "metadata": {},
   "outputs": [],
   "source": [
    "def test(s: str, category: str):\n",
    "    df_x_test = pd.DataFrame([s],columns=['text'])\n",
    "    df_y_test = pd.Series([category], name='category')\n",
    "\n",
    "    vectorized_x_test = tfidf_word_vectorizer.transform(df_x_test).toarray()\n",
    "    encoded_y_test = encoder.transform(df_y_test)\n",
    "    display(f\"expected class: {encoder_mapping[encoded_y_test[0]]}\")\n",
    "    for name, modelFile in word_trained_classifier.items():\n",
    "        model = joblib.load(modelFile)\n",
    "        encoded_y_pred = model.predict(vectorized_x_test)\n",
    "        probabilities = model.predict_proba(vectorized_x_test)\n",
    "        display(f'model {name}: predict class: {encoder_mapping[encoded_y_pred[0]]}')\n",
    "        display(f'confidence values: {probabilities}')\n",
    "        print('\\n')"
   ]
  },
  {
   "cell_type": "code",
   "execution_count": 400,
   "metadata": {},
   "outputs": [
    {
     "data": {
      "text/plain": [
       "'expected class: tech'"
      ]
     },
     "metadata": {},
     "output_type": "display_data"
    },
    {
     "data": {
      "text/plain": [
       "'model logistic_regression: predict class: sport'"
      ]
     },
     "metadata": {},
     "output_type": "display_data"
    },
    {
     "data": {
      "text/plain": [
       "'confidence values: [[0.25357706 0.1825488  0.08124394 0.30832634 0.17430385]]'"
      ]
     },
     "metadata": {},
     "output_type": "display_data"
    },
    {
     "name": "stdout",
     "output_type": "stream",
     "text": [
      "\n",
      "\n"
     ]
    },
    {
     "data": {
      "text/plain": [
       "'model svm: predict class: sport'"
      ]
     },
     "metadata": {},
     "output_type": "display_data"
    },
    {
     "data": {
      "text/plain": [
       "'confidence values: [[0.24717915 0.27134575 0.00784751 0.25808614 0.21554145]]'"
      ]
     },
     "metadata": {},
     "output_type": "display_data"
    },
    {
     "name": "stdout",
     "output_type": "stream",
     "text": [
      "\n",
      "\n"
     ]
    },
    {
     "data": {
      "text/plain": [
       "'model multinomial_nb: predict class: tech'"
      ]
     },
     "metadata": {},
     "output_type": "display_data"
    },
    {
     "data": {
      "text/plain": [
       "'confidence values: [[0.00165757 0.01478736 0.00794666 0.00128589 0.97432253]]'"
      ]
     },
     "metadata": {},
     "output_type": "display_data"
    },
    {
     "name": "stdout",
     "output_type": "stream",
     "text": [
      "\n",
      "\n"
     ]
    },
    {
     "data": {
      "text/plain": [
       "'model bernoulli_nb: predict class: entertainment'"
      ]
     },
     "metadata": {},
     "output_type": "display_data"
    },
    {
     "data": {
      "text/plain": [
       "'confidence values: [[1.13058726e-06 9.99811336e-01 7.21979025e-33 1.87533592e-04\\n  6.22417822e-40]]'"
      ]
     },
     "metadata": {},
     "output_type": "display_data"
    },
    {
     "name": "stdout",
     "output_type": "stream",
     "text": [
      "\n",
      "\n"
     ]
    },
    {
     "data": {
      "text/plain": [
       "'model gaussian_nb: predict class: tech'"
      ]
     },
     "metadata": {},
     "output_type": "display_data"
    },
    {
     "data": {
      "text/plain": [
       "'confidence values: [[0. 0. 0. 0. 1.]]'"
      ]
     },
     "metadata": {},
     "output_type": "display_data"
    },
    {
     "name": "stdout",
     "output_type": "stream",
     "text": [
      "\n",
      "\n"
     ]
    },
    {
     "data": {
      "text/plain": [
       "'model decision_tree: predict class: sport'"
      ]
     },
     "metadata": {},
     "output_type": "display_data"
    },
    {
     "data": {
      "text/plain": [
       "'confidence values: [[0.07925408 0.09090909 0.03263403 0.73426573 0.06293706]]'"
      ]
     },
     "metadata": {},
     "output_type": "display_data"
    },
    {
     "name": "stdout",
     "output_type": "stream",
     "text": [
      "\n",
      "\n"
     ]
    },
    {
     "data": {
      "text/plain": [
       "'model knn: predict class: tech'"
      ]
     },
     "metadata": {},
     "output_type": "display_data"
    },
    {
     "data": {
      "text/plain": [
       "'confidence values: [[0.  0.2 0.  0.  0.8]]'"
      ]
     },
     "metadata": {},
     "output_type": "display_data"
    },
    {
     "name": "stdout",
     "output_type": "stream",
     "text": [
      "\n",
      "\n"
     ]
    },
    {
     "data": {
      "text/plain": [
       "'model random_forest: predict class: sport'"
      ]
     },
     "metadata": {},
     "output_type": "display_data"
    },
    {
     "data": {
      "text/plain": [
       "'confidence values: [[0.16 0.22 0.08 0.52 0.02]]'"
      ]
     },
     "metadata": {},
     "output_type": "display_data"
    },
    {
     "name": "stdout",
     "output_type": "stream",
     "text": [
      "\n",
      "\n"
     ]
    },
    {
     "data": {
      "text/plain": [
       "'model extra_trees: predict class: sport'"
      ]
     },
     "metadata": {},
     "output_type": "display_data"
    },
    {
     "data": {
      "text/plain": [
       "'confidence values: [[0.16 0.26 0.04 0.52 0.02]]'"
      ]
     },
     "metadata": {},
     "output_type": "display_data"
    },
    {
     "name": "stdout",
     "output_type": "stream",
     "text": [
      "\n",
      "\n"
     ]
    }
   ],
   "source": [
    "test(s='podcasters  look to net money nasa is doing it  14-year-old boys in bedrooms are doing it  couples are doing it  gadget lovers - male and female - are definitely doing it.  it is podcasting - diy radio in the form of downloadable mp3 audio files. they can done by anyone who has a microphone  simple software  the net  and something to say. some liken them to talking  audioblogs  because many complement text-based weblogs - diary-like sites where people share their thoughts. they are essentially amateur radio shows on the net  on demand  and the  movement  is at very early stages.  it s about real people saying real things and communicating   says adam curry  former mtv vj and the pied piper of podcasting. he was one of a community of people who created ipodder  a small computer program  known as an  aggregator .  it collects and automatically sends mp3 files to any digital music-playing device that can play wmp formats. those with digital music players can select which podcasts they like  and subscribe - for free - to that show s  feed . when a new podcast is available  it is automatically sent to the device when connected to a computer.  it is totally going to kill the business model of radio   thinks curry.  i just did a tour of madison avenue where all the big brands and advertising agencies of the world are   he says.  and they are scared to death of the next generation - like my daughter who is 14 - who don t listen to radio.  they are on msn  they ve got their ipod  their mp3 player  they ve got their xbox - they are not listening to radio.  so how are they going to reach these audiences   it is the distribution that is changing and the barriers are being brought down so everyone can be part of it.   it is a fledgling movement  but it is gaining momentum now that people have started thinking about how to make a business from it. ian fogg  jupiter research analyst  thinks there could be potential for business  but it could take an interesting turn if big companies  like apple and microsoft  get involved.  it is a nascent area but quite exciting. it is yet another area that demonstrates the move to a digital lifestyle and digital home is not over   he says.   podcasting is one of those interesting areas that bridges what you do at home and what you do out and about - a classic hybrid. it is another aspect of the  time-shifting  of content - the latest industry buzzword for being able to listen to what you want  when  and wherever you want. audiences are in the 10s  100s  and 1 000s rather than millions. more than 4 300 podcasts are currently listed. curry s daily source code - which he committed to doing daily to inspire the community - has 10s of thousands of listeners.  but dave winer is doubtful. he designed the format called rss (really simple syndication)  which gives web users an easy way to keep updated automatically on sites they like. podcasts rely on his technology because it is the way they are distributed. he is also writer of the longest-running weblog on the net  scripting news. he thinks its power lies in its democratising potential  not in its  over-hyped  business promise.   we re the sources  the people doing stuff  and podcasting is a way to tell people who care what we re doing.  no matter how you look at it  commercialising this medium isn t going to make very much money   he says.  podcasting is going to be a medium of niches  with  audiences  measured in the single digits  like e-mail or blogs.  maybe in a few years  maybe six or seven digits. but it will have to sustain interest beyond the hype balloon.  curry and associate ron bloom s new venture  called podshow  is to help ordinary people produce  post  distribute and market their podcasts. because of the way podcasts work  based on rss  the latest podcasts which people can select mean that they are ready-made targets.  when you look at podcasting - wow this is a pretty interesting audience. the audience is pre-selected. they have decided to subscribe to your program   explains curry. advertising  in his eyes  can be tailored to podcasts  to make it more imaginative and unobtrusive.  how i believe this will work  is to create a network that  in aggregation  will have enough numbers to support a return on investment for the advertisers and for the podcasters.  i have 50  60  70 000 listeners. i could make a couple of bucks off that  but not much. if you are talking a million podcasters  and then you can kind of divide that amongst ourselves  then that is kind of interesting.  essentially  he says  if you are doing a bass fishing podcast  someone who is selling bait and tackle will probably want to advertise on your show. he is clear the ads will not be the traditional  in-your-face  type familiar to commercial radio now.  we are really going to see these microcosms and commerce will be all over the place.   it is happening already. coffee-loving curry has sold $4 000 worth of coffee machines through a referral link to amazon from his site.  others use in-show promotions  like the dawn and drew show. one  eric rice  has won sponsorship from warner bros. he can now legally play the music of a band warner bros wants to push. some commentators on the net say it has a similar feel to the dotcom days. others say it is just another element of setting media free from big companies and letting people be creative. one thing is for sure; they are not about to disappear in a hurry. the creative forces behind radio are elated  says curry. for now  he tunes out the negative comments within the podcasting community.  i should be knighted for this   he adds  with a wry chuckle   people are going to be so happy to sit at home  make their podcast  and make a little money', category='tech')"
   ]
  },
  {
   "cell_type": "code",
   "execution_count": null,
   "metadata": {},
   "outputs": [],
   "source": []
  }
 ],
 "metadata": {
  "kernelspec": {
   "display_name": "Python 3.10.11 ('.venv': venv)",
   "language": "python",
   "name": "python3"
  },
  "language_info": {
   "codemirror_mode": {
    "name": "ipython",
    "version": 3
   },
   "file_extension": ".py",
   "mimetype": "text/x-python",
   "name": "python",
   "nbconvert_exporter": "python",
   "pygments_lexer": "ipython3",
   "version": "3.10.11"
  },
  "orig_nbformat": 4,
  "vscode": {
   "interpreter": {
    "hash": "fd1593e5ca0c59b44fc0fc41ee074129c081b18ee551bbb80c26fd4bc42f02a1"
   }
  }
 },
 "nbformat": 4,
 "nbformat_minor": 2
}
